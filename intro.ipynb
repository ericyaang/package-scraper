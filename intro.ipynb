{
 "cells": [
  {
   "cell_type": "markdown",
   "metadata": {},
   "source": [
    "# Criando um package\n",
    "\n",
    "Script - é um arquivo que executa uma tarefa específica (`tarefa_1.py`)\n",
    "\n",
    "Package - é um diretório com códigos python para serem importados (`sklearn`)\n",
    "\n",
    "Subpackage - é um package menor dentro de outra package (`sklearn.linear_model`)\n",
    "\n",
    "Module - Um python file dentro de um package que contém package code\n",
    "\n",
    "Library - é um package ou uma coleção de packages (`math`, `os`, `datime`,..)"
   ]
  },
  {
   "cell_type": "code",
   "execution_count": 3,
   "metadata": {},
   "outputs": [],
   "source": [
    "from scraper.scraper_olx import get_infos, get_urls_df\n",
    "import pandas as pd\n",
    "from datetime import datetime as dt"
   ]
  },
  {
   "cell_type": "code",
   "execution_count": null,
   "metadata": {},
   "outputs": [],
   "source": [
    "PAGES =  1\n",
    "centro = get_urls_df('centro', PAGES)\n",
    "continente = get_urls_df('continente', PAGES)\n",
    "leste = get_urls_df('leste', PAGES)\n",
    "norte = get_urls_df('norte', PAGES)\n",
    "sul = get_urls_df('sul', PAGES)\n",
    "\n",
    "df_all = pd.concat([centro, continente, leste, norte, sul], ignore_index=True)"
   ]
  },
  {
   "cell_type": "code",
   "execution_count": null,
   "metadata": {},
   "outputs": [],
   "source": [
    "start_time = dt.now()\n",
    "\n",
    "infos = []\n",
    "for index, row in df_all.iterrows():\n",
    "    try:\n",
    "        temp = get_infos(row[0], row[1], row[2], row[3], row[4])\n",
    "        infos.append(temp)\n",
    "    except:\n",
    "        None\n",
    "    print(f'Páginas registradas: {index}', end='\\r')\n",
    "\n",
    "time_elapsed = (dt.now() - start_time)\n",
    "print(f'Duração: {time_elapsed}')"
   ]
  },
  {
   "cell_type": "code",
   "execution_count": 2,
   "metadata": {},
   "outputs": [
    {
     "ename": "NameError",
     "evalue": "name 'pd' is not defined",
     "output_type": "error",
     "traceback": [
      "\u001b[1;31m---------------------------------------------------------------------------\u001b[0m",
      "\u001b[1;31mNameError\u001b[0m                                 Traceback (most recent call last)",
      "\u001b[1;32m~\\AppData\\Local\\Temp/ipykernel_21352/1833539801.py\u001b[0m in \u001b[0;36m<module>\u001b[1;34m\u001b[0m\n\u001b[0;32m      1\u001b[0m \u001b[0mDATA_PATH\u001b[0m \u001b[1;33m=\u001b[0m \u001b[1;34m'/data/olx_'\u001b[0m\u001b[1;33m\u001b[0m\u001b[1;33m\u001b[0m\u001b[0m\n\u001b[0;32m      2\u001b[0m \u001b[1;33m\u001b[0m\u001b[0m\n\u001b[1;32m----> 3\u001b[1;33m \u001b[0mdf\u001b[0m \u001b[1;33m=\u001b[0m \u001b[0mpd\u001b[0m\u001b[1;33m.\u001b[0m\u001b[0mDataFrame\u001b[0m\u001b[1;33m(\u001b[0m\u001b[0minfos\u001b[0m\u001b[1;33m)\u001b[0m\u001b[1;33m\u001b[0m\u001b[1;33m\u001b[0m\u001b[0m\n\u001b[0m\u001b[0;32m      4\u001b[0m \u001b[0mnow_\u001b[0m \u001b[1;33m=\u001b[0m \u001b[0mdt\u001b[0m\u001b[1;33m.\u001b[0m\u001b[0mnow\u001b[0m\u001b[1;33m(\u001b[0m\u001b[1;33m)\u001b[0m\u001b[1;33m.\u001b[0m\u001b[0mstrftime\u001b[0m\u001b[1;33m(\u001b[0m\u001b[1;34m'%d%m%y-%H%M%S'\u001b[0m\u001b[1;33m)\u001b[0m\u001b[1;33m\u001b[0m\u001b[1;33m\u001b[0m\u001b[0m\n\u001b[0;32m      5\u001b[0m df.to_csv(DATA_PATH +\n",
      "\u001b[1;31mNameError\u001b[0m: name 'pd' is not defined"
     ]
    }
   ],
   "source": [
    "DATA_PATH = '/data/olx_'\n",
    "\n",
    "df = pd.DataFrame(infos)\n",
    "now_ = dt.now().strftime('%d%m%y-%H%M%S')\n",
    "df.to_csv(DATA_PATH +\n",
    "          now_ + '.csv', index=False)"
   ]
  }
 ],
 "metadata": {
  "kernelspec": {
   "display_name": "Python 3.9.7 ('env_full')",
   "language": "python",
   "name": "python3"
  },
  "language_info": {
   "codemirror_mode": {
    "name": "ipython",
    "version": 3
   },
   "file_extension": ".py",
   "mimetype": "text/x-python",
   "name": "python",
   "nbconvert_exporter": "python",
   "pygments_lexer": "ipython3",
   "version": "3.9.7"
  },
  "orig_nbformat": 4,
  "vscode": {
   "interpreter": {
    "hash": "1868de2c73cf2f13b5de1110e4637bbbe329886e40293e8aa5d4c3295bc988c6"
   }
  }
 },
 "nbformat": 4,
 "nbformat_minor": 2
}
